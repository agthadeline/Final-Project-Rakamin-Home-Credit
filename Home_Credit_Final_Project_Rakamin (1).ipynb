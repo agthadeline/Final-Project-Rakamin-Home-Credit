{
 "cells": [
  {
   "cell_type": "code",
   "execution_count": null,
   "metadata": {
    "colab": {
     "base_uri": "https://localhost:8080/",
     "height": 17
    },
    "id": "abCk5h0tQhHw",
    "outputId": "27bbeb61-bd0f-4afe-b085-78e420614cff"
   },
   "outputs": [],
   "source": [
    "#Import Libraries\n",
    "import pandas as pd\n",
    "import sklearn\n",
    "import numpy as np\n",
    "import matplotlib.pyplot as plt\n",
    "import os\n",
    "import warnings\n",
    "import seaborn as sns\n",
    "from sklearn.preprocessing import OneHotEncoder\n",
    "from sklearn.impute import SimpleImputer\n",
    "from sklearn.pipeline import Pipeline\n",
    "from sklearn.compose import ColumnTransformer\n",
    "from sklearn.preprocessing import StandardScaler\n",
    "from sklearn.svm import LinearSVC\n",
    "from sklearn.metrics import roc_auc_score\n",
    "from sklearn.linear_model import LogisticRegression\n",
    "from sklearn.metrics import roc_auc_score\n",
    "from sklearn.calibration import CalibratedClassifierCV\n",
    "from sklearn.metrics import confusion_matrix\n",
    "from sklearn.ensemble import RandomForestClassifier\n",
    "from sklearn.metrics import accuracy_score\n",
    "from sklearn.linear_model import SGDClassifier\n",
    "import plotly.offline as py\n",
    "import plotly.graph_objs as go\n",
    "from plotly.offline import init_notebook_mode, iplot\n",
    "from sklearn.model_selection import train_test_split\n",
    "init_notebook_mode(connected=True)\n",
    "import cufflinks as cf\n",
    "cf.go_offline()\n",
    "import pickle\n",
    "import gc\n",
    "import lightgbm as lgb\n",
    "warnings.filterwarnings('ignore')\n",
    "%matplotlib inline"
   ]
  },
  {
   "cell_type": "code",
   "execution_count": null,
   "metadata": {
    "colab": {
     "base_uri": "https://localhost:8080/",
     "height": 352
    },
    "id": "inON4yGERwLg",
    "outputId": "5fdc73f2-3646-403e-cbf6-816968fe7e2f"
   },
   "outputs": [],
   "source": [
    "#Read application_train data\n",
    "print('Reading the data...', end='')\n",
    "application = pd.read_csv('application_train.csv')\n",
    "print('done!')\n",
    "print('The shape of data:',application.shape)\n",
    "print('First 5 rows of data:')\n",
    "application.head()"
   ]
  },
  {
   "cell_type": "code",
   "execution_count": null,
   "metadata": {
    "colab": {
     "base_uri": "https://localhost:8080/",
     "height": 694
    },
    "id": "bu2gFhkHQs1W",
    "outputId": "a4ea34f6-7814-4e70-bb06-ea5da4f07f0d"
   },
   "outputs": [],
   "source": [
    "#Check missing value \n",
    "count = application.isnull().sum().sort_values(ascending=False)\n",
    "percentage = ((application.isnull().sum()/len(application)*100)).sort_values(ascending=False)\n",
    "missing_application = pd.concat([count, percentage], axis=1, keys=['Count','Percentage'])\n",
    "print('Count and percentage of missing values for top 20 columns:')\n",
    "missing_application.head(20)"
   ]
  },
  {
   "cell_type": "code",
   "execution_count": null,
   "metadata": {
    "colab": {
     "base_uri": "https://localhost:8080/"
    },
    "id": "I8cfwUyxWNAb",
    "outputId": "4b8db9d9-d434-4c81-9a48-7aa345666dda"
   },
   "outputs": [],
   "source": [
    "#Check duplicate data\n",
    "columns_without_id = [col for col in application.columns if col!='SK_ID_CURR']\n",
    "#Checking for duplicates in the data.\n",
    "application[application.duplicated(subset = columns_without_id, keep=False)]\n",
    "print('The no of duplicates in the data:',application[application.duplicated(subset = columns_without_id, keep=False)]\n",
    "      .shape[0])"
   ]
  },
  {
   "cell_type": "code",
   "execution_count": null,
   "metadata": {
    "colab": {
     "base_uri": "https://localhost:8080/",
     "height": 542
    },
    "id": "It5OLpoXZ4uT",
    "outputId": "0672eff1-3fef-488b-efdd-541387206b65"
   },
   "outputs": [],
   "source": [
    "#Distribusi datapoints for output class\n",
    "cf.set_config_file(theme='polar')\n",
    "contract_val = application['NAME_CONTRACT_TYPE'].value_counts()\n",
    "contract_df = pd.DataFrame({'labels': contract_val.index,\n",
    "                   'values': contract_val.values\n",
    "                  })\n",
    "contract_df.iplot(kind='pie',labels='labels',values='values', title='Types of Loan', hole = 0.6)"
   ]
  },
  {
   "cell_type": "code",
   "execution_count": null,
   "metadata": {
    "colab": {
     "base_uri": "https://localhost:8080/",
     "height": 542
    },
    "id": "oq_nk5RXZ7if",
    "outputId": "ac7d90a8-4ade-4c0a-ab70-cea26a58dbb9"
   },
   "outputs": [],
   "source": [
    "#Distribusi of AMT_INCOME_TOTAL\n",
    "application[application['AMT_INCOME_TOTAL'] < 2000000]['AMT_INCOME_TOTAL'].iplot(kind='histogram', bins=100,\n",
    "   xTitle = 'Total Income', yTitle ='Count of applicants',\n",
    "             title='Distribution of AMT_INCOME_TOTAL')"
   ]
  },
  {
   "cell_type": "code",
   "execution_count": null,
   "metadata": {
    "colab": {
     "base_uri": "https://localhost:8080/"
    },
    "id": "b5MLTt5CZ85d",
    "outputId": "4d718ae9-4162-4b69-e1a9-e44607f723b2"
   },
   "outputs": [],
   "source": [
    "(application[application['AMT_INCOME_TOTAL'] > 1000000]['TARGET'].value_counts())/len(application[application['AMT_INCOME_TOTAL'] > 1000000])*100"
   ]
  },
  {
   "cell_type": "code",
   "execution_count": null,
   "metadata": {
    "colab": {
     "base_uri": "https://localhost:8080/",
     "height": 542
    },
    "id": "L7fuip4Vajdu",
    "outputId": "75dfd71f-bf4a-403c-a385-c889a56582ef"
   },
   "outputs": [],
   "source": [
    "#Loan Available\n",
    "cf.set_config_file(theme='polar')\n",
    "contract_val = application['NAME_CONTRACT_TYPE'].value_counts()\n",
    "contract_df = pd.DataFrame({'labels': contract_val.index,\n",
    "                   'values': contract_val.values\n",
    "                  })\n",
    "contract_df.iplot(kind='pie',labels='labels',values='values', title='Types of Loan', hole = 0.6)"
   ]
  },
  {
   "cell_type": "code",
   "execution_count": null,
   "metadata": {
    "colab": {
     "base_uri": "https://localhost:8080/",
     "height": 542
    },
    "id": "7yB1xP4xakpQ",
    "outputId": "b7822428-4562-4697-96da-b1108c0cd429"
   },
   "outputs": [],
   "source": [
    "#Distribusi AMT_CREDIT \n",
    "application['AMT_CREDIT'].iplot(kind='histogram', bins=100,\n",
    "            xTitle = 'Credit Amount',yTitle ='Count of applicants',\n",
    "            title='Distribution of AMT_CREDIT')"
   ]
  },
  {
   "cell_type": "code",
   "execution_count": null,
   "metadata": {
    "colab": {
     "base_uri": "https://localhost:8080/",
     "height": 542
    },
    "id": "31hFTgfQanhU",
    "outputId": "b24622e6-9c33-42af-fca3-6f40038414ab"
   },
   "outputs": [],
   "source": [
    "np.log(application['AMT_CREDIT']).iplot(kind='histogram', bins=100,\n",
    "        xTitle = 'log(Credit Amount)',yTitle ='Count of applicants',\n",
    "        title='Distribution of log(AMT_CREDIT)')"
   ]
  },
  {
   "cell_type": "code",
   "execution_count": null,
   "metadata": {
    "colab": {
     "base_uri": "https://localhost:8080/",
     "height": 542
    },
    "id": "xc7xP2Lpaovt",
    "outputId": "258734bb-a182-44b0-8ccf-9c0d8da4f171"
   },
   "outputs": [],
   "source": [
    "#Distribusi Tipe Suites \n",
    "cf.set_config_file(theme='polar')\n",
    "suite_val = (application['NAME_TYPE_SUITE'].value_counts()/len(application))*100\n",
    "suite_val.iplot(kind='bar', xTitle = 'Name of type of the Suite',\n",
    "             yTitle='Count of applicants in %',\n",
    "             title='Who accompanied client when applying for the  application in % ')"
   ]
  },
  {
   "cell_type": "code",
   "execution_count": null,
   "metadata": {
    "colab": {
     "base_uri": "https://localhost:8080/",
     "height": 542
    },
    "id": "wmHWYMdPaqRH",
    "outputId": "49f872ed-58ee-46ca-812d-dbb9da53780b"
   },
   "outputs": [],
   "source": [
    "suite_val = application['NAME_TYPE_SUITE'].value_counts()\n",
    "suite_val_y0 = []\n",
    "suite_val_y1 = []\n",
    "for val in suite_val.index:\n",
    "    suite_val_y1.append(np.sum(application['TARGET'][application['NAME_TYPE_SUITE']==val] == 1))\n",
    "    suite_val_y0.append(np.sum(application['TARGET'][application['NAME_TYPE_SUITE']==val] == 0))\n",
    "data = [go.Bar(x = suite_val.index, y = ((suite_val_y1 / suite_val.sum()) * 100), name='Yes' ),\n",
    "        go.Bar(x = suite_val.index, y = ((suite_val_y0 / suite_val.sum()) * 100), name='No' )]\n",
    "layout = go.Layout(\n",
    "    title = \"Who accompanied client when applying for the  application in terms of loan is repayed or not in %\",\n",
    "    xaxis=dict(\n",
    "        title='Name of type of the Suite',\n",
    "       ),\n",
    "    yaxis=dict(\n",
    "        title='Count of applicants in %',\n",
    "        )\n",
    ")\n",
    "fig = go.Figure(data = data, layout=layout) \n",
    "fig.layout.template = 'plotly_dark'\n",
    "py.iplot(fig)"
   ]
  },
  {
   "cell_type": "code",
   "execution_count": null,
   "metadata": {
    "colab": {
     "base_uri": "https://localhost:8080/",
     "height": 542
    },
    "id": "vYTaaCo_ax2A",
    "outputId": "ecc8a5f2-2627-4be5-ad80-b28e69cf8ef5"
   },
   "outputs": [],
   "source": [
    "#Distribusi Sumber Pendapatan Calon Peminjam berdasarkan pinjaman dibayarkan atau tidak\n",
    "income_val = application['NAME_INCOME_TYPE'].value_counts()\n",
    "income_val_y0 = []\n",
    "income_val_y1 = []\n",
    "for val in income_val.index:\n",
    "    income_val_y1.append(np.sum(application['TARGET'][application['NAME_INCOME_TYPE']==val] == 1))\n",
    "    income_val_y0.append(np.sum(application['TARGET'][application['NAME_INCOME_TYPE']==val] == 0))\n",
    "data = [go.Bar(x = income_val.index, y = ((income_val_y1 / income_val.sum()) * 100), name='Yes' ),\n",
    "        go.Bar(x = income_val.index, y = ((income_val_y0 / income_val.sum()) * 100), name='No' )]\n",
    "layout = go.Layout(\n",
    "    title = \"Sumber pendapatan klien yang Diterima atau Ditolak dalam %\",\n",
    "    xaxis=dict(\n",
    "        title='Sumber pendapatan klien yang Diterima atau Ditolak',\n",
    "       ),\n",
    "    yaxis=dict(\n",
    "        title='Count of applicants in %',\n",
    "        )\n",
    ")\n",
    "fig = go.Figure(data = data, layout=layout) \n",
    "fig.layout.template = 'plotly_dark'\n",
    "py.iplot(fig)"
   ]
  },
  {
   "cell_type": "code",
   "execution_count": null,
   "metadata": {
    "colab": {
     "base_uri": "https://localhost:8080/",
     "height": 542
    },
    "id": "NydIvsSBa0IF",
    "outputId": "bbd5c103-db8b-4bec-ae33-d66c8cf207cf"
   },
   "outputs": [],
   "source": [
    "#Distribusi Pendidikan Calon Pelamar\n",
    "education_val = application['NAME_EDUCATION_TYPE'].value_counts()\n",
    "education_val_y0 = []\n",
    "education_val_y1 = []\n",
    "for val in education_val.index:\n",
    "    education_val_y1.append(np.sum(application['TARGET'][application['NAME_EDUCATION_TYPE']==val] == 1))\n",
    "    education_val_y0.append(np.sum(application['TARGET'][application['NAME_EDUCATION_TYPE']==val] == 0))\n",
    "data = [go.Bar(x = education_val.index, y = ((education_val_y1 / education_val.sum()) * 100), name='Yes' ),\n",
    "        go.Bar(x = education_val.index, y = ((education_val_y0 / education_val.sum()) * 100), name='No' )]\n",
    "layout = go.Layout(\n",
    "    title = \"Edukasi dari klien yang Diterima atau Ditolak dalam %\",\n",
    "    xaxis=dict(\n",
    "        title='Edukasi dari klien yang Diterima atau Ditolak',\n",
    "       ),\n",
    "    yaxis=dict(\n",
    "        title='Count of applicants in %',\n",
    "        )\n",
    ")\n",
    "fig = go.Figure(data = data, layout=layout) \n",
    "fig.layout.template = 'plotly_dark'\n",
    "py.iplot(fig)\n"
   ]
  },
  {
   "cell_type": "code",
   "execution_count": null,
   "metadata": {
    "colab": {
     "base_uri": "https://localhost:8080/",
     "height": 542
    },
    "id": "LZY9qgS1a1Mf",
    "outputId": "8ffb9657-8aca-424c-cdec-c3213f6a67c1"
   },
   "outputs": [],
   "source": [
    "#Distribusi Umur Klien\n",
    "cf.set_config_file(theme='pearl')\n",
    "(application['DAYS_BIRTH']/(-365)).iplot(kind='histogram', \n",
    "             xTitle = 'Age', bins=50,\n",
    "             yTitle='Count of type of applicants in %',\n",
    "             title='Distribution of Clients Age')"
   ]
  },
  {
   "cell_type": "code",
   "execution_count": null,
   "metadata": {
    "colab": {
     "base_uri": "https://localhost:8080/",
     "height": 542
    },
    "id": "49ask0Ana3Es",
    "outputId": "c2a3a820-25d8-4d57-fe7a-71a7cf0f78d0"
   },
   "outputs": [],
   "source": [
    "#Distribusi waktu (tahun) calon pelamar mulai bekerja di pekerjaan terbaru sebelum hari pengajuan\n",
    "cf.set_config_file(theme='pearl')\n",
    "(application['DAYS_EMPLOYED']).iplot(kind='histogram', \n",
    "             xTitle = 'Days',bins=50,\n",
    "             yTitle='Count of applicants in %',\n",
    "             title='Days before the application the person started current employment')"
   ]
  },
  {
   "cell_type": "code",
   "execution_count": null,
   "metadata": {
    "colab": {
     "base_uri": "https://localhost:8080/"
    },
    "id": "3LzxBWwnbOqM",
    "outputId": "6be2ad0d-596f-430d-acec-a6b7134ef3f2"
   },
   "outputs": [],
   "source": [
    "error = application[application['DAYS_EMPLOYED'] == 365243]\n",
    "print('The no of errors are :', len(error))\n",
    "(error['TARGET'].value_counts()/len(error))*100"
   ]
  },
  {
   "cell_type": "code",
   "execution_count": null,
   "metadata": {
    "id": "ng8l4E6BbRzB"
   },
   "outputs": [],
   "source": [
    "# Create an error flag column\n",
    "application['DAYS_EMPLOYED_ERROR'] = application[\"DAYS_EMPLOYED\"] == 365243\n",
    "# Replace the error values with nan\n",
    "application['DAYS_EMPLOYED'].replace({365243: np.nan}, inplace = True)"
   ]
  },
  {
   "cell_type": "code",
   "execution_count": null,
   "metadata": {
    "colab": {
     "base_uri": "https://localhost:8080/"
    },
    "id": "6WFV_VWYbS_s",
    "outputId": "9b2b4f7a-4e4f-4831-a5ae-057eaf1161cd"
   },
   "outputs": [],
   "source": [
    "application[application['DAYS_EMPLOYED']>(-365*2)]['TARGET'].value_counts()/sum(application['DAYS_EMPLOYED']>(-365*2))"
   ]
  },
  {
   "cell_type": "code",
   "execution_count": null,
   "metadata": {
    "colab": {
     "base_uri": "https://localhost:8080/"
    },
    "id": "tZs8KSpQbUlB",
    "outputId": "f6841445-8e49-4744-e90f-b4fd83796389"
   },
   "outputs": [],
   "source": [
    "# Flag to represent when Total income is greater than Credit\n",
    "application['INCOME_GT_CREDIT_FLAG'] = application['AMT_INCOME_TOTAL'] > application['AMT_CREDIT']\n",
    "# Column to represent Credit Income Percent\n",
    "application['CREDIT_INCOME_PERCENT'] = application['AMT_CREDIT'] / application['AMT_INCOME_TOTAL']\n",
    "# Column to represent Annuity Income percent\n",
    "application['ANNUITY_INCOME_PERCENT'] = application['AMT_ANNUITY'] / application['AMT_INCOME_TOTAL']\n",
    "# Column to represent Credit Term\n",
    "application['CREDIT_TERM'] = application['AMT_CREDIT'] / application['AMT_ANNUITY'] \n",
    "# Column to represent Days Employed percent in his life\n",
    "application['DAYS_EMPLOYED_PERCENT'] = application['DAYS_EMPLOYED'] / application['DAYS_BIRTH']\n",
    "# Shape of Application data\n",
    "print('The shape of application data:',application.shape)"
   ]
  },
  {
   "cell_type": "code",
   "execution_count": null,
   "metadata": {
    "colab": {
     "base_uri": "https://localhost:8080/",
     "height": 374
    },
    "id": "4znxbS-8bYzH",
    "outputId": "29f16b28-e88e-4930-9f49-0daf39b16eb9"
   },
   "outputs": [],
   "source": [
    "print('Reading the data....', end='')\n",
    "bureau = pd.read_csv('bureau.csv')\n",
    "print('done!!!')\n",
    "print('The shape of data:',bureau.shape)\n",
    "print('First 5 rows of data:')\n",
    "bureau.head()"
   ]
  },
  {
   "cell_type": "code",
   "execution_count": null,
   "metadata": {
    "colab": {
     "base_uri": "https://localhost:8080/"
    },
    "id": "KyiwIb0HbabI",
    "outputId": "ea767383-1d59-4d4d-be26-45c98a46b63a"
   },
   "outputs": [],
   "source": [
    "# Combining numerical features\n",
    "grp = bureau.drop(['SK_ID_BUREAU'], axis = 1).groupby(by=['SK_ID_CURR']).mean().reset_index()\n",
    "grp.columns = ['BUREAU_'+column if column !='SK_ID_CURR' else column for column in grp.columns]\n",
    "application_bureau = application.merge(grp, on='SK_ID_CURR', how='left')\n",
    "application_bureau.update(application_bureau[grp.columns].fillna(0))\n",
    "# Combining categorical features\n",
    "bureau_categorical = pd.get_dummies(bureau.select_dtypes('object'))\n",
    "bureau_categorical['SK_ID_CURR'] = bureau['SK_ID_CURR']\n",
    "grp = bureau_categorical.groupby(by = ['SK_ID_CURR']).mean().reset_index()\n",
    "grp.columns = ['BUREAU_'+column if column !='SK_ID_CURR' else column for column in grp.columns]\n",
    "application_bureau = application_bureau.merge(grp, on='SK_ID_CURR', how='left')\n",
    "application_bureau.update(application_bureau[grp.columns].fillna(0))\n",
    "# Shape of application and bureau data combined\n",
    "print('The shape application and bureau data combined:',application_bureau.shape)"
   ]
  },
  {
   "cell_type": "code",
   "execution_count": null,
   "metadata": {
    "id": "tsk_2-FCbdtu"
   },
   "outputs": [],
   "source": [
    "# Number of past loans per customer\n",
    "grp = bureau.groupby(by = ['SK_ID_CURR'])['SK_ID_BUREAU'].count().reset_index().rename(columns = {'SK_ID_BUREAU': 'BUREAU_LOAN_COUNT'})\n",
    "application_bureau = application_bureau.merge(grp, on='SK_ID_CURR', how='left')\n",
    "application_bureau['BUREAU_LOAN_COUNT'] = application_bureau['BUREAU_LOAN_COUNT'].fillna(0)"
   ]
  },
  {
   "cell_type": "code",
   "execution_count": null,
   "metadata": {
    "id": "XWJYMv-JbgRa"
   },
   "outputs": [],
   "source": [
    "# Number of types of past loans per customer \n",
    "grp = bureau[['SK_ID_CURR', 'CREDIT_TYPE']].groupby(by = ['SK_ID_CURR'])['CREDIT_TYPE'].nunique().reset_index().rename(columns={'CREDIT_TYPE': 'BUREAU_LOAN_TYPES'})\n",
    "application_bureau = application_bureau.merge(grp, on='SK_ID_CURR', how='left')\n",
    "application_bureau['BUREAU_LOAN_TYPES'] = application_bureau['BUREAU_LOAN_TYPES'].fillna(0)"
   ]
  },
  {
   "cell_type": "code",
   "execution_count": null,
   "metadata": {
    "id": "i-kAA2DNbhqu"
   },
   "outputs": [],
   "source": [
    "# Debt over credit ratio \n",
    "bureau['AMT_CREDIT_SUM'] = bureau['AMT_CREDIT_SUM'].fillna(0)\n",
    "bureau['AMT_CREDIT_SUM_DEBT'] = bureau['AMT_CREDIT_SUM_DEBT'].fillna(0)\n",
    "grp1 = bureau[['SK_ID_CURR','AMT_CREDIT_SUM']].groupby(by=['SK_ID_CURR'])['AMT_CREDIT_SUM'].sum().reset_index().rename(columns={'AMT_CREDIT_SUM': 'TOTAL_CREDIT_SUM'})\n",
    "grp2 = bureau[['SK_ID_CURR','AMT_CREDIT_SUM_DEBT']].groupby(by=['SK_ID_CURR'])['AMT_CREDIT_SUM_DEBT'].sum().reset_index().rename(columns={'AMT_CREDIT_SUM_DEBT':'TOTAL_CREDIT_SUM_DEBT'})\n",
    "grp1['DEBT_CREDIT_RATIO'] = grp2['TOTAL_CREDIT_SUM_DEBT']/grp1['TOTAL_CREDIT_SUM']\n",
    "del grp1['TOTAL_CREDIT_SUM']\n",
    "application_bureau = application_bureau.merge(grp1, on='SK_ID_CURR', how='left')\n",
    "application_bureau['DEBT_CREDIT_RATIO'] = application_bureau['DEBT_CREDIT_RATIO'].fillna(0)\n",
    "application_bureau['DEBT_CREDIT_RATIO'] = application_bureau['DEBT_CREDIT_RATIO'].replace([np.inf, -np.inf], 0)\n",
    "application_bureau['DEBT_CREDIT_RATIO'] = pd.to_numeric(application_bureau['DEBT_CREDIT_RATIO'], downcast='float')"
   ]
  },
  {
   "cell_type": "code",
   "execution_count": null,
   "metadata": {
    "id": "2aaHX89Kbi4_"
   },
   "outputs": [],
   "source": [
    "# Overdue over debt ratio\n",
    "bureau['AMT_CREDIT_SUM_OVERDUE'] = bureau['AMT_CREDIT_SUM_OVERDUE'].fillna(0)\n",
    "bureau['AMT_CREDIT_SUM_DEBT'] = bureau['AMT_CREDIT_SUM_DEBT'].fillna(0)\n",
    "grp1 = bureau[['SK_ID_CURR','AMT_CREDIT_SUM_OVERDUE']].groupby(by=['SK_ID_CURR'])['AMT_CREDIT_SUM_OVERDUE'].sum().reset_index().rename(columns={'AMT_CREDIT_SUM_OVERDUE': 'TOTAL_CUSTOMER_OVERDUE'})\n",
    "grp2 = bureau[['SK_ID_CURR','AMT_CREDIT_SUM_DEBT']].groupby(by=['SK_ID_CURR'])['AMT_CREDIT_SUM_DEBT'].sum().reset_index().rename(columns={'AMT_CREDIT_SUM_DEBT':'TOTAL_CUSTOMER_DEBT'})\n",
    "grp1['OVERDUE_DEBT_RATIO'] = grp1['TOTAL_CUSTOMER_OVERDUE']/grp2['TOTAL_CUSTOMER_DEBT']\n",
    "del grp1['TOTAL_CUSTOMER_OVERDUE']\n",
    "application_bureau = application_bureau.merge(grp1, on='SK_ID_CURR', how='left')\n",
    "application_bureau['OVERDUE_DEBT_RATIO'] = application_bureau['OVERDUE_DEBT_RATIO'].fillna(0)\n",
    "application_bureau['OVERDUE_DEBT_RATIO'] = application_bureau['OVERDUE_DEBT_RATIO'].replace([np.inf, -np.inf], 0)\n",
    "application_bureau['OVERDUE_DEBT_RATIO'] = pd.to_numeric(application_bureau['OVERDUE_DEBT_RATIO'], downcast='float')"
   ]
  },
  {
   "cell_type": "code",
   "execution_count": null,
   "metadata": {
    "colab": {
     "base_uri": "https://localhost:8080/",
     "height": 369
    },
    "id": "2gcgg5zebkGS",
    "outputId": "cd4ee3da-76ad-4811-915a-f7c4154cc6f4"
   },
   "outputs": [],
   "source": [
    "print('Reading the data....', end='')\n",
    "previous_applicaton = pd.read_csv('previous_application.csv')\n",
    "print('done!!!')\n",
    "print('The shape of data:',previous_applicaton.shape)\n",
    "print('First 5 rows of data:')\n",
    "previous_applicaton.head()"
   ]
  },
  {
   "cell_type": "code",
   "execution_count": null,
   "metadata": {
    "id": "flduKtZ-bmfa"
   },
   "outputs": [],
   "source": [
    "# Number of previous applications per customer\n",
    "grp = previous_applicaton[['SK_ID_CURR','SK_ID_PREV']].groupby(by=['SK_ID_CURR'])['SK_ID_PREV'].count().reset_index().rename(columns={'SK_ID_PREV':'PREV_APP_COUNT'})\n",
    "application_bureau_prev = application_bureau.merge(grp, on =['SK_ID_CURR'], how = 'left')\n",
    "application_bureau_prev['PREV_APP_COUNT'] = application_bureau_prev['PREV_APP_COUNT'].fillna(0)\n",
    "# Combining numerical features\n",
    "grp = previous_applicaton.drop('SK_ID_PREV', axis =1).groupby(by=['SK_ID_CURR']).mean().reset_index()\n",
    "prev_columns = ['PREV_'+column if column != 'SK_ID_CURR' else column for column in grp.columns ]\n",
    "grp.columns = prev_columns\n",
    "application_bureau_prev = application_bureau_prev.merge(grp, on =['SK_ID_CURR'], how = 'left')\n",
    "application_bureau_prev.update(application_bureau_prev[grp.columns].fillna(0))\n",
    "# Combining categorical features\n",
    "prev_categorical = pd.get_dummies(previous_applicaton.select_dtypes('object'))\n",
    "prev_categorical['SK_ID_CURR'] = previous_applicaton['SK_ID_CURR']\n",
    "prev_categorical.head()\n",
    "grp = prev_categorical.groupby('SK_ID_CURR').mean().reset_index()\n",
    "grp.columns = ['PREV_'+column if column != 'SK_ID_CURR' else column for column in grp.columns]\n",
    "application_bureau_prev = application_bureau_prev.merge(grp, on=['SK_ID_CURR'], how='left')\n",
    "application_bureau_prev.update(application_bureau_prev[grp.columns].fillna(0))"
   ]
  },
  {
   "cell_type": "code",
   "execution_count": null,
   "metadata": {
    "colab": {
     "base_uri": "https://localhost:8080/",
     "height": 258
    },
    "id": "KRfPZPDQbp8I",
    "outputId": "f77f407c-dad4-4723-bccf-59c438d164fa"
   },
   "outputs": [],
   "source": [
    "print('Reading the data....', end='')\n",
    "pos_cash = pd.read_csv('POS_CASH_balance.csv')\n",
    "print('done!!!')\n",
    "print('The shape of data:',pos_cash.shape)\n",
    "print('First 5 rows of data:')\n",
    "pos_cash.head()"
   ]
  },
  {
   "cell_type": "code",
   "execution_count": null,
   "metadata": {
    "id": "yU9v5ayRbrrD"
   },
   "outputs": [],
   "source": [
    "# Combining numerical features\n",
    "grp = pos_cash.drop('SK_ID_PREV', axis =1).groupby(by=['SK_ID_CURR']).mean().reset_index()\n",
    "prev_columns = ['POS_'+column if column != 'SK_ID_CURR' else column for column in grp.columns ]\n",
    "grp.columns = prev_columns\n",
    "application_bureau_prev = application_bureau_prev.merge(grp, on =['SK_ID_CURR'], how = 'left')\n",
    "application_bureau_prev.update(application_bureau_prev[grp.columns].fillna(0))\n",
    "# Combining categorical features\n",
    "pos_cash_categorical = pd.get_dummies(pos_cash.select_dtypes('object'))\n",
    "pos_cash_categorical['SK_ID_CURR'] = pos_cash['SK_ID_CURR']\n",
    "grp = pos_cash_categorical.groupby('SK_ID_CURR').mean().reset_index()\n",
    "grp.columns = ['POS_'+column if column != 'SK_ID_CURR' else column for column in grp.columns]\n",
    "application_bureau_prev = application_bureau_prev.merge(grp, on=['SK_ID_CURR'], how='left')\n",
    "application_bureau_prev.update(application_bureau_prev[grp.columns].fillna(0))"
   ]
  },
  {
   "cell_type": "code",
   "execution_count": null,
   "metadata": {
    "colab": {
     "base_uri": "https://localhost:8080/",
     "height": 258
    },
    "id": "6qMVOXU4byca",
    "outputId": "836e054b-de58-41f5-84dc-111a6a92611b"
   },
   "outputs": [],
   "source": [
    "print('Reading the data....', end='')\n",
    "insta_payments = pd.read_csv('installments_payments.csv')\n",
    "print('done!!!')\n",
    "print('The shape of data:',insta_payments.shape)\n",
    "print('First 5 rows of data:')\n",
    "insta_payments.head()"
   ]
  },
  {
   "cell_type": "code",
   "execution_count": null,
   "metadata": {
    "id": "wb7SctVrb0FS"
   },
   "outputs": [],
   "source": [
    "# Combining numerical features and there are no categorical features in this dataset\n",
    "grp = insta_payments.drop('SK_ID_PREV', axis =1).groupby(by=['SK_ID_CURR']).mean().reset_index()\n",
    "prev_columns = ['INSTA_'+column if column != 'SK_ID_CURR' else column for column in grp.columns ]\n",
    "grp.columns = prev_columns\n",
    "application_bureau_prev = application_bureau_prev.merge(grp, on =['SK_ID_CURR'], how = 'left')\n",
    "application_bureau_prev.update(application_bureau_prev[grp.columns].fillna(0))"
   ]
  },
  {
   "cell_type": "code",
   "execution_count": null,
   "metadata": {
    "colab": {
     "base_uri": "https://localhost:8080/",
     "height": 352
    },
    "id": "bIwazxuab1ZK",
    "outputId": "8423a087-6746-4868-e53b-d3ef94912111"
   },
   "outputs": [],
   "source": [
    "print('Reading the data....', end='')\n",
    "credit_card = pd.read_csv('credit_card_balance.csv')\n",
    "print('done!!!')\n",
    "print('The shape of data:',credit_card.shape)\n",
    "print('First 5 rows of data:')\n",
    "credit_card.head()"
   ]
  },
  {
   "cell_type": "code",
   "execution_count": null,
   "metadata": {
    "id": "FfNobs4Rb2-k"
   },
   "outputs": [],
   "source": [
    "# Combining numerical features\n",
    "grp = credit_card.drop('SK_ID_PREV', axis =1).groupby(by=['SK_ID_CURR']).mean().reset_index()\n",
    "prev_columns = ['CREDIT_'+column if column != 'SK_ID_CURR' else column for column in grp.columns ]\n",
    "grp.columns = prev_columns\n",
    "application_bureau_prev = application_bureau_prev.merge(grp, on =['SK_ID_CURR'], how = 'left')\n",
    "application_bureau_prev.update(application_bureau_prev[grp.columns].fillna(0))\n",
    "# Combining categorical features\n",
    "credit_categorical = pd.get_dummies(credit_card.select_dtypes('object'))\n",
    "credit_categorical['SK_ID_CURR'] = credit_card['SK_ID_CURR']\n",
    "grp = credit_categorical.groupby('SK_ID_CURR').mean().reset_index()\n",
    "grp.columns = ['CREDIT_'+column if column != 'SK_ID_CURR' else column for column in grp.columns]\n",
    "application_bureau_prev = application_bureau_prev.merge(grp, on=['SK_ID_CURR'], how='left')\n",
    "application_bureau_prev.update(application_bureau_prev[grp.columns].fillna(0))"
   ]
  },
  {
   "cell_type": "code",
   "execution_count": null,
   "metadata": {
    "colab": {
     "base_uri": "https://localhost:8080/"
    },
    "id": "SABtcjHScAV3",
    "outputId": "9ce87ef1-99eb-4a7e-be12-4408ed1f0797"
   },
   "outputs": [],
   "source": [
    "y = application_bureau_prev.pop('TARGET').values\n",
    "X_train, X_temp, y_train, y_temp = train_test_split(application_bureau_prev.drop(['SK_ID_CURR'],axis=1), y, stratify = y, test_size=0.3, random_state=42)\n",
    "X_val, X_test, y_val, y_test = train_test_split(X_temp, y_temp, stratify = y_temp, test_size=0.5, random_state=42)\n",
    "print('Shape of X_train:',X_train.shape)\n",
    "print('Shape of X_val:',X_val.shape)\n",
    "print('Shape of X_test:',X_test.shape)"
   ]
  },
  {
   "cell_type": "code",
   "execution_count": null,
   "metadata": {
    "colab": {
     "base_uri": "https://localhost:8080/"
    },
    "id": "SOLewTACcD3h",
    "outputId": "e89881cb-0416-4c31-c5b9-80a2d8744f39"
   },
   "outputs": [],
   "source": [
    "# Seperation of columns into numeric and categorical columns\n",
    "types = np.array([dt for dt in X_train.dtypes])\n",
    "all_columns = X_train.columns.values\n",
    "is_num = types != 'object'\n",
    "num_cols = all_columns[is_num]\n",
    "cat_cols = all_columns[~is_num]\n",
    "# Featurization of numeric data\n",
    "imputer_num = SimpleImputer(strategy='median')\n",
    "X_train_num = imputer_num.fit_transform(X = X_train[num_cols])\n",
    "X_val_num = imputer_num.transform(X_val[num_cols])\n",
    "X_test_num = imputer_num.transform(X_test[num_cols])\n",
    "scaler_num = StandardScaler()\n",
    "X_train_num1 = scaler_num.fit_transform(X_train_num)\n",
    "X_val_num1 = scaler_num.transform(X_val_num)\n",
    "X_test_num1 = scaler_num.transform(X_test_num)\n",
    "X_train_num_final = pd.DataFrame(X_train_num1, columns=num_cols)\n",
    "X_val_num_final = pd.DataFrame(X_val_num1, columns=num_cols)\n",
    "X_test_num_final = pd.DataFrame(X_test_num1, columns=num_cols)\n",
    "# Featurization of categorical data\n",
    "imputer_cat = SimpleImputer(strategy='constant', fill_value='MISSING')\n",
    "X_train_cat = imputer_cat.fit_transform(X_train[cat_cols])\n",
    "X_val_cat = imputer_cat.transform(X_val[cat_cols])\n",
    "X_test_cat = imputer_cat.transform(X_test[cat_cols])\n",
    "X_train_cat1= pd.DataFrame(X_train_cat, columns=cat_cols)\n",
    "X_val_cat1= pd.DataFrame(X_val_cat, columns=cat_cols)\n",
    "X_test_cat1= pd.DataFrame(X_test_cat, columns=cat_cols)\n",
    "ohe = OneHotEncoder(sparse=False,handle_unknown='ignore')\n",
    "X_train_cat2 = ohe.fit_transform(X_train_cat1)\n",
    "X_val_cat2 = ohe.transform(X_val_cat1)\n",
    "X_test_cat2 = ohe.transform(X_test_cat1)\n",
    "cat_cols_ohe = list(ohe.get_feature_names(input_features=cat_cols))\n",
    "X_train_cat_final = pd.DataFrame(X_train_cat2, columns = cat_cols_ohe)\n",
    "X_val_cat_final = pd.DataFrame(X_val_cat2, columns = cat_cols_ohe)\n",
    "X_test_cat_final = pd.DataFrame(X_test_cat2, columns = cat_cols_ohe)\n",
    "# Final complete data\n",
    "X_train_final = pd.concat([X_train_num_final,X_train_cat_final], axis = 1)\n",
    "X_val_final = pd.concat([X_val_num_final,X_val_cat_final], axis = 1)\n",
    "X_test_final = pd.concat([X_test_num_final,X_test_cat_final], axis = 1)\n",
    "print(X_train_final.shape)\n",
    "print(X_val_final.shape)\n",
    "print(X_test_final.shape)"
   ]
  },
  {
   "cell_type": "code",
   "execution_count": null,
   "metadata": {
    "id": "EG4OtQ0ncOk_"
   },
   "outputs": [],
   "source": [
    "# Saving the Dataframes into CSV files for future use\n",
    "X_train_final.to_csv('X_train_final.csv')\n",
    "X_val_final.to_csv('X_val_final.csv')\n",
    "X_test_final.to_csv('X_test_final.csv')\n",
    "# Saving the numpy arrays into text files for future use\n",
    "np.savetxt('y.txt', y)\n",
    "np.savetxt('y_train.txt', y_train)\n",
    "np.savetxt('y_val.txt', y_val)\n",
    "np.savetxt('y_test.txt', y_test)"
   ]
  },
  {
   "cell_type": "code",
   "execution_count": null,
   "metadata": {
    "id": "9HbK0iYccaLw"
   },
   "outputs": [],
   "source": [
    "model_sk = lgb.LGBMClassifier(boosting_type='gbdt', max_depth=7, learning_rate=0.01, n_estimators= 2000, \n",
    "                 class_weight='balanced', subsample=0.9, colsample_bytree= 0.8, n_jobs=-1)\n",
    "train_features, valid_features, train_y, valid_y = train_test_split(X_train_final, y_train, test_size = 0.15, random_state = 42)\n",
    "model_sk.fit(train_features, train_y, early_stopping_rounds=100, eval_set = [(valid_features, valid_y)], eval_metric = 'auc', verbose = 200)"
   ]
  },
  {
   "cell_type": "code",
   "execution_count": null,
   "metadata": {
    "id": "6rEAoCeNeddU"
   },
   "outputs": [],
   "source": [
    "feature_imp = pd.DataFrame(sorted(zip(model_sk.feature_importances_, X_train_final.columns)), columns=['Value','Feature'])\n",
    "features_df = feature_imp.sort_values(by=\"Value\", ascending=False)\n",
    "selected_features = list(features_df[features_df['Value']>=50]['Feature'])\n",
    "# Saving the selected features into pickle file\n",
    "with open('select_features.txt','wb') as fp:\n",
    "    pickle.dump(selected_features, fp)\n",
    "print('The no. of features selected:',len(selected_features))"
   ]
  },
  {
   "cell_type": "code",
   "execution_count": null,
   "metadata": {
    "id": "AhcTVAnSfvgl"
   },
   "outputs": [],
   "source": [
    "# Feature importance Plot\n",
    "data1 = features_df.head(20)\n",
    "data = [go.Bar(x =data1.sort_values(by='Value')['Value'] , y = data1.sort_values(by='Value')['Feature'], orientation = 'h',\n",
    "              marker = dict(\n",
    "        color = 'rgba(43, 13, 150, 0.6)',\n",
    "        line = dict(\n",
    "            color = 'rgba(43, 13, 150, 1.0)',\n",
    "            width = 1.5)))]\n",
    "layout = go.Layout(\n",
    "    autosize=False,\n",
    "    width=1300,\n",
    "    height=700,\n",
    "    title = \"Top 20 important features\",\n",
    "    xaxis=dict(\n",
    "        title='Importance value'),\n",
    "    yaxis=dict(\n",
    "        automargin=True),\n",
    "    bargap=0.4)\n",
    "fig = go.Figure(data = data, layout=layout)\n",
    "fig.layout.template = 'seaborn'\n",
    "py.iplot(fig)"
   ]
  },
  {
   "cell_type": "code",
   "execution_count": null,
   "metadata": {
    "id": "_k9NeFPEfwMd"
   },
   "outputs": [],
   "source": [
    "def plot_confusion_matrix(test_y, predicted_y):\n",
    "    # Confusion matrix\n",
    "    C = confusion_matrix(test_y, predicted_y)\n",
    "    \n",
    "    # Recall matrix\n",
    "    A = (((C.T)/(C.sum(axis=1))).T)\n",
    "    \n",
    "    # Precision matrix\n",
    "    B = (C/C.sum(axis=0))\n",
    "    \n",
    "    plt.figure(figsize=(20,4))\n",
    "    \n",
    "    labels = ['Re-paid(0)','Not Re-paid(1)']\n",
    "    cmap=sns.light_palette(\"purple\")\n",
    "    plt.subplot(1,3,1)\n",
    "    sns.heatmap(C, annot=True, cmap=cmap,fmt=\"d\", xticklabels = labels, yticklabels=labels)\n",
    "    plt.xlabel('Predicted Class')\n",
    "    plt.ylabel('Orignal Class')\n",
    "    plt.title('Confusion matrix')\n",
    "    \n",
    "    plt.subplot(1,3,2)\n",
    "    sns.heatmap(A, annot=True, cmap=cmap, xticklabels = labels, yticklabels=labels)\n",
    "    plt.xlabel('Predicted Class')\n",
    "    plt.ylabel('Orignal Class')\n",
    "    plt.title('Recall matrix')\n",
    "    \n",
    "    plt.subplot(1,3,3)\n",
    "    sns.heatmap(B, annot=True, cmap=cmap, xticklabels = labels, yticklabels=labels)\n",
    "    plt.xlabel('Predicted Class')\n",
    "    plt.ylabel('Orignal Class')\n",
    "    plt.title('Precision matrix')\n",
    "    \n",
    "    plt.show()\n",
    "def cv_plot(alpha, cv_auc):\n",
    "    \n",
    "    fig, ax = plt.subplots()\n",
    "    ax.plot(np.log10(alpha), cv_auc,c='g')\n",
    "    for i, txt in enumerate(np.round(cv_auc,3)):\n",
    "        ax.annotate((alpha[i],str(txt)), (np.log10(alpha[i]),cv_auc[i]))\n",
    "    plt.grid()\n",
    "    plt.xticks(np.log10(alpha))\n",
    "    plt.title(\"Cross Validation Error for each alpha\")\n",
    "    plt.xlabel(\"Alpha i's\")\n",
    "    plt.ylabel(\"Error measure\")\n",
    "    plt.show()"
   ]
  },
  {
   "cell_type": "code",
   "execution_count": null,
   "metadata": {
    "id": "cPBalSZHfy0L"
   },
   "outputs": [],
   "source": [
    "alpha = np.logspace(-4,4,9)\n",
    "cv_auc_score = []\n",
    "for i in alpha:\n",
    "    clf = SGDClassifier(alpha=i, penalty='l1',class_weight = 'balanced', loss='log', random_state=28)\n",
    "    clf.fit(X_train_final[selected_features], y_train)\n",
    "    sig_clf = CalibratedClassifierCV(clf, method='sigmoid')\n",
    "    sig_clf.fit(X_train_final[selected_features], y_train)\n",
    "    y_pred_prob = sig_clf.predict_proba(X_val_final[selected_features])[:,1]\n",
    "    cv_auc_score.append(roc_auc_score(y_val,y_pred_prob))\n",
    "    print('For alpha {0}, cross validation AUC score {1}'.format(i,roc_auc_score(y_val,y_pred_prob)))\n",
    "cv_plot(alpha, cv_auc_score)\n",
    "print('The Optimal C value is:', alpha[np.argmax(cv_auc_score)])"
   ]
  },
  {
   "cell_type": "code",
   "execution_count": null,
   "metadata": {
    "id": "c5avozSdf0R-"
   },
   "outputs": [],
   "source": [
    "best_alpha = alpha[np.argmax(cv_auc_score)]\n",
    "logreg = SGDClassifier(alpha = best_alpha, class_weight = 'balanced', penalty = 'l1', loss='log', random_state = 28)\n",
    "logreg.fit(X_train_final[selected_features], y_train)\n",
    "logreg_sig_clf = CalibratedClassifierCV(logreg, method='sigmoid')\n",
    "logreg_sig_clf.fit(X_train_final[selected_features], y_train)\n",
    "y_pred_prob = logreg_sig_clf.predict_proba(X_train_final[selected_features])[:,1]\n",
    "print('For best alpha {0}, The Train AUC score is {1}'.format(best_alpha, roc_auc_score(y_train,y_pred_prob) ))    \n",
    "y_pred_prob = logreg_sig_clf.predict_proba(X_val_final[selected_features])[:,1]\n",
    "print('For best alpha {0}, The Cross validated AUC score is {1}'.format(best_alpha, roc_auc_score(y_val,y_pred_prob) ))  \n",
    "y_pred_prob = logreg_sig_clf.predict_proba(X_test_final[selected_features])[:,1]\n",
    "print('For best alpha {0}, The Test AUC score is {1}'.format(best_alpha, roc_auc_score(y_test,y_pred_prob) ))\n",
    "y_pred = logreg.predict(X_test_final[selected_features])\n",
    "print('The test AUC score is :', roc_auc_score(y_test,y_pred_prob))\n",
    "print('The percentage of misclassified points {:05.2f}% :'.format((1-accuracy_score(y_test, y_pred))*100))\n",
    "plot_confusion_matrix(y_test, y_pred)"
   ]
  },
  {
   "cell_type": "code",
   "execution_count": null,
   "metadata": {
    "id": "Ag9RqzMhf20W"
   },
   "outputs": [],
   "source": [
    "from sklearn.metrics import roc_curve\n",
    "fpr, tpr, thresholds = roc_curve(y_test, y_pred_prob)\n",
    "auc = roc_auc_score(y_test,y_pred_prob)\n",
    "plt.figure(figsize=(8,6))\n",
    "plt.plot(fpr, tpr, marker='.')\n",
    "plt.plot([0, 1], [0, 1], linestyle='--')\n",
    "plt.title('ROC curve', fontsize = 20)\n",
    "plt.xlabel('FPR', fontsize=15)\n",
    "plt.ylabel('TPR', fontsize=15)\n",
    "plt.grid()\n",
    "plt.legend([\"AUC=%.3f\"%auc])\n",
    "plt.show()"
   ]
  }
 ],
 "metadata": {
  "colab": {
   "collapsed_sections": [],
   "provenance": []
  },
  "kernelspec": {
   "display_name": "Python 3 (ipykernel)",
   "language": "python",
   "name": "python3"
  },
  "language_info": {
   "codemirror_mode": {
    "name": "ipython",
    "version": 3
   },
   "file_extension": ".py",
   "mimetype": "text/x-python",
   "name": "python",
   "nbconvert_exporter": "python",
   "pygments_lexer": "ipython3",
   "version": "3.9.12"
  }
 },
 "nbformat": 4,
 "nbformat_minor": 1
}
